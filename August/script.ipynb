import tkinter as tk
from tkinter import ttk
import numpy as np
import pandas as pd
import logging

import dowhy
from dowhy import CausalModel

# Load the data
df = pd.read_csv(r"C:\Users\nstep\TSU\SeniorProject\AirbnbDataCleanedModel428.csv")

# Create the main window
root = tk.Tk()
root.title("Airbnb Price Predictor")

# Create a frame for the input fields
input_frame = ttk.LabelFrame(root, text="Property Conditions", padding=(10, 5))
input_frame.grid(padx=10, pady=10, sticky="ew")

# Create input fields based on the columns in the dataframe
input_fields = {}
columns_except_price = [col for col in df.columns if col != "price"]
for i, column in enumerate(columns_except_price):
    row = i // 4
    col = (i % 4) * 2  # Every second column contains an Entry widget
    
    # Create label and entry for the column
    ttk.Label(input_frame, text=column).grid(row=row, column=col, sticky="w", padx=5, pady=2)
    input_field = ttk.Entry(input_frame)
    input_field.grid(row=row, column=col+1, padx=5, pady=2)
    input_fields[column] = input_field

# Define the predict_price function
# Define the predict_price function
def predict_price():
    # Display a message to inform the user that the computation is in progress
    predicted_price_label.config(text="Computing price... Please wait.")

    # Refresh the GUI to immediately reflect the above change
    root.update_idletasks()

    data_dict = {}
    
    # Validate and process input fields
    for col, input_widget in input_fields.items():
        value = input_widget.get().strip()
        if not value:  # Check if the input is empty
            default_value = 0.0  # or df[col].mean() if you want to use the column's mean value
            data_dict[col] = default_value
        else:
            try:
                data_dict[col] = float(value)
            except ValueError:  # Handle invalid float values
                ttk.Label(input_frame, text=f"Error: Invalid input for {col}!", foreground="red").grid(row=len(input_fields) // 4, column=0, columnspan=8)
                return

    # Add a placeholder for the 'price' column
    data_dict['price'] = 0.0  # placeholder value
    
    # Append user's input to the original dataframe
    modified_df = df.append(data_dict, ignore_index=True)
    
    # Define the outcome
    outcome = 'price'
    
    # Store results in a dictionary
    results = {}
    
    # Loop over all columns in the modified_df as treatments
    for treatment in modified_df.columns:
        if treatment != outcome:
            common_causes = [col for col in modified_df.columns if col != treatment and col != outcome]
            
            # Create a causal model with the modified_df
            model = CausalModel(
                data=modified_df,
                treatment=treatment,
                outcome=outcome,
                common_causes=common_causes,
                logging_level=logging.INFO
            )
            
            # Identify the causal effect
            identified_estimand = model.identify_effect()

            # Estimate the causal effect using the regression method
            causal_estimate = model.estimate_effect(identified_estimand,
                                                    method_name="backdoor.linear_regression",
                                                    test_significance=True)
            
            # Store the results
            results[treatment] = {
                "causal_estimate": causal_estimate.value,
                "treatment": treatment
            }

    # Update the label with the predicted price at the end
    sorted_results = sorted(results.values(), key=lambda x: x['causal_estimate'], reverse=True)
    predicted_price_label.config(text=f"Predicted Price: ${sorted_results[0]['causal_estimate']:.2f}")


# Create a button to trigger the prediction
predict_button = ttk.Button(root, text="Predict Price", command=predict_price)
predict_button.grid(row=1, column=0, pady=10)

# Create a label to display the predicted price
predicted_price_label = ttk.Label(root, text="Predicted Price: $0")
predicted_price_label.grid(row=2, column=0, pady=10)

root.mainloop()
