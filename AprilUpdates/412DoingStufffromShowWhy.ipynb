{
 "cells": [
  {
   "cell_type": "code",
   "execution_count": 6,
   "metadata": {},
   "outputs": [
    {
     "name": "stdout",
     "output_type": "stream",
     "text": [
      "bathrooms increases bedrooms with weight 1.436\n",
      "bathrooms increases cable tv with weight 0.183\n",
      "bathrooms increases cleaning fee with weight 0.868\n",
      "bathrooms increases gym with weight 0.025\n",
      "bathrooms increases hot tub with weight 0.159\n",
      "bathrooms increases indoor fireplace with weight 0.340\n",
      "bathrooms decreases pets allowed with weight -0.010\n",
      "bathrooms increases pool with weight 0.183\n",
      "bathrooms increases price with weight 0.703\n",
      "bathrooms increases washer with weight 0.351\n",
      "bathrooms increases dryer with weight 0.347\n",
      "bathrooms increases accommodates with weight 1.139\n",
      "beds increases cable tv with weight 0.041\n",
      "beds increases cleaning fee with weight 0.355\n",
      "beds increases extra people with weight 0.030\n",
      "beds increases kitchen with weight 0.021\n",
      "beds increases pets allowed with weight 0.091\n",
      "beds increases accommodates with weight 1.055\n",
      "bedrooms increases beds with weight 1.555\n",
      "bedrooms increases cable tv with weight 0.025\n",
      "bedrooms increases cleaning fee with weight 0.589\n",
      "bedrooms increases kitchen with weight 0.066\n",
      "bedrooms increases price with weight 0.430\n",
      "bedrooms increases washer with weight 0.089\n",
      "bedrooms increases accommodates with weight 1.467\n",
      "cable tv increases cleaning fee with weight 0.288\n",
      "cable tv increases hot tub with weight 0.038\n",
      "cable tv increases indoor fireplace with weight 0.069\n",
      "cable tv increases internet with weight 0.229\n",
      "cable tv increases price with weight 0.117\n",
      "cable tv increases dryer with weight 0.016\n",
      "cable tv increases wireless internet with weight 0.011\n",
      "cleaning fee increases hot tub with weight 0.040\n",
      "cleaning fee increases indoor fireplace with weight 0.091\n",
      "cleaning fee increases internet with weight 0.058\n",
      "cleaning fee increases kitchen with weight 0.047\n",
      "cleaning fee increases price with weight 0.413\n",
      "cleaning fee increases washer with weight 0.066\n",
      "cleaning fee increases dryer with weight 0.070\n",
      "extra people increases internet with weight 0.067\n",
      "extra people decreases price with weight -0.053\n",
      "gym increases hot tub with weight 0.084\n",
      "gym increases tv with weight 0.087\n",
      "indoor fireplace increases hot tub with weight 0.074\n",
      "internet increases wireless internet with weight 0.036\n",
      "pets allowed increases extra people with weight 0.016\n",
      "pets allowed increases hot tub with weight 0.031\n",
      "pets allowed increases indoor fireplace with weight 0.033\n",
      "pets allowed increases kitchen with weight 0.011\n",
      "pool increases extra people with weight 0.033\n",
      "pool increases hot tub with weight 0.285\n",
      "pool increases indoor fireplace with weight 0.156\n",
      "price increases hot tub with weight 0.042\n",
      "price increases indoor fireplace with weight 0.079\n",
      "price increases internet with weight 0.033\n",
      "tv increases cable tv with weight 0.068\n",
      "tv increases internet with weight 0.133\n",
      "tv increases kitchen with weight 0.015\n",
      "tv increases dryer with weight 0.023\n",
      "washer increases indoor fireplace with weight 0.112\n",
      "washer increases internet with weight 0.088\n",
      "washer increases kitchen with weight 0.088\n",
      "washer increases pets allowed with weight 0.093\n",
      "washer increases dryer with weight 0.950\n",
      "washer increases wireless internet with weight 0.019\n",
      "accommodates increases extra people with weight 0.031\n",
      "accommodates increases pool with weight 0.034\n",
      "accommodates increases price with weight 0.233\n",
      "accommodates increases tv with weight 0.158\n",
      "24-hour check-in  internet with weight \n",
      "accommodates  beds with weight \n",
      "accommodates  bedrooms with weight \n",
      "accommodates  bathrooms with weight \n",
      "accommodates  cleaning fee with weight \n",
      "accommodates  guests included with weight \n",
      "accommodates  price with weight \n",
      "accommodates  suitable for events with weight \n",
      "accommodates  dryer with weight \n",
      "accommodates  washer with weight \n",
      "accommodates  family/kid friendly with weight \n",
      "accommodates  indoor fireplace with weight \n",
      "bathrooms  bedrooms with weight \n",
      "bathrooms  beds with weight \n",
      "bathrooms  cleaning fee with weight \n",
      "bathrooms  price with weight \n",
      "bathrooms  indoor fireplace with weight \n",
      "bathrooms  pool with weight \n",
      "bathrooms  hot tub with weight \n",
      "bathrooms  dryer with weight \n",
      "bathrooms  washer with weight \n",
      "bathrooms  guests included with weight \n",
      "bathrooms  number of reviews with weight \n",
      "bedrooms  beds with weight \n",
      "bedrooms  cleaning fee with weight \n",
      "bedrooms  price with weight \n",
      "bedrooms  guests included with weight \n",
      "bedrooms  washer with weight \n",
      "bedrooms  dryer with weight \n",
      "bedrooms  indoor fireplace with weight \n",
      "bedrooms  number of reviews with weight \n",
      "bedrooms  family/kid friendly with weight \n",
      "bedrooms  suitable for events with weight \n",
      "bedrooms  pool with weight \n",
      "bedrooms  hot tub with weight \n",
      "beds  cleaning fee with weight \n",
      "beds  guests included with weight \n",
      "beds  price with weight \n",
      "beds  suitable for events with weight \n",
      "beds  dryer with weight \n",
      "beds  family/kid friendly with weight \n",
      "beds  washer with weight \n",
      "beds  indoor fireplace with weight \n",
      "cable tv  internet with weight \n",
      "cable tv  tv with weight \n",
      "cable tv  cleaning fee with weight \n",
      "cleaning fee  price with weight \n",
      "cleaning fee  guests included with weight \n",
      "cleaning fee  pool with weight \n",
      "cleaning fee  indoor fireplace with weight \n",
      "cleaning fee  hot tub with weight \n",
      "cleaning fee  dryer with weight \n",
      "cleaning fee  washer with weight \n",
      "dryer  washer with weight \n",
      "dryer  kitchen with weight \n",
      "dryer  free parking on premises with weight \n",
      "essentials  wireless internet with weight \n",
      "extra people  guests included with weight \n",
      "free parking on premises  washer with weight \n",
      "heating  wireless internet with weight \n",
      "heating  kitchen with weight \n",
      "hot tub  pool with weight \n",
      "hot tub  indoor fireplace with weight \n",
      "indoor fireplace  pool with weight \n",
      "internet  wireless internet with weight \n",
      "kitchen  washer with weight \n",
      "kitchen  wireless internet with weight \n"
     ]
    }
   ],
   "source": [
    "#causal-graph-2023-04-12\n",
    "import csv\n",
    "\n",
    "# Replace 'your_file.csv' with the actual name of your CSV file\n",
    "file_name = 'causal-graph-2023-04-12.csv'\n",
    "\n",
    "# Read the CSV file\n",
    "with open(file_name, newline='', encoding='utf-8') as csvfile:\n",
    "    reader = csv.DictReader(csvfile)\n",
    "    for row in reader:\n",
    "        source = row['source']\n",
    "        target = row['target']\n",
    "        relationship = row['relationship']\n",
    "        weight = row['weight']\n",
    "\n",
    "        print(f\"{source} {relationship} {target} with weight {weight}\")\n",
    "\n"
   ]
  },
  {
   "cell_type": "code",
   "execution_count": 2,
   "metadata": {},
   "outputs": [
    {
     "name": "stdout",
     "output_type": "stream",
     "text": [
      "Requirement already satisfied: networkx in c:\\users\\nstep\\anaconda3\\lib\\site-packages (2.8.8)\n",
      "Requirement already satisfied: matplotlib in c:\\users\\nstep\\anaconda3\\lib\\site-packages (3.5.2)\n",
      "Requirement already satisfied: kiwisolver>=1.0.1 in c:\\users\\nstep\\anaconda3\\lib\\site-packages (from matplotlib) (1.4.2)\n",
      "Requirement already satisfied: pyparsing>=2.2.1 in c:\\users\\nstep\\anaconda3\\lib\\site-packages (from matplotlib) (3.0.9)\n",
      "Requirement already satisfied: pillow>=6.2.0 in c:\\users\\nstep\\anaconda3\\lib\\site-packages (from matplotlib) (9.2.0)\n",
      "Requirement already satisfied: python-dateutil>=2.7 in c:\\users\\nstep\\anaconda3\\lib\\site-packages (from matplotlib) (2.8.2)\n",
      "Requirement already satisfied: numpy>=1.17 in c:\\users\\nstep\\anaconda3\\lib\\site-packages (from matplotlib) (1.21.6)\n",
      "Requirement already satisfied: cycler>=0.10 in c:\\users\\nstep\\anaconda3\\lib\\site-packages (from matplotlib) (0.11.0)\n",
      "Requirement already satisfied: fonttools>=4.22.0 in c:\\users\\nstep\\anaconda3\\lib\\site-packages (from matplotlib) (4.25.0)\n",
      "Requirement already satisfied: packaging>=20.0 in c:\\users\\nstep\\anaconda3\\lib\\site-packages (from matplotlib) (21.3)\n",
      "Requirement already satisfied: six>=1.5 in c:\\users\\nstep\\anaconda3\\lib\\site-packages (from python-dateutil>=2.7->matplotlib) (1.16.0)\n"
     ]
    },
    {
     "ename": "",
     "evalue": "",
     "output_type": "error",
     "traceback": [
      "\u001b[1;31mThe Kernel crashed while executing code in the the current cell or a previous cell. Please review the code in the cell(s) to identify a possible cause of the failure. Click <a href='https://aka.ms/vscodeJupyterKernelCrash'>here</a> for more info. View Jupyter <a href='command:jupyter.viewOutput'>log</a> for further details."
     ]
    }
   ],
   "source": [
    "!pip install networkx matplotlib\n",
    "\n"
   ]
  },
  {
   "cell_type": "code",
   "execution_count": 3,
   "metadata": {},
   "outputs": [
    {
     "data": {
      "image/png": "[encoded data removed]",
      "text/plain": [
       "<Figure size 640x480 with 1 Axes>"
      ]
     },
     "metadata": {},
     "output_type": "display_data"
    }
   ],
   "source": [
    "import csv\n",
    "import networkx as nx\n",
    "import matplotlib.pyplot as plt\n",
    "\n",
    "file_name = 'causal-graph-2023-04-12.csv'\n",
    "\n",
    "# Create a new graph\n",
    "G = nx.DiGraph()\n",
    "\n",
    "# Read the CSV file\n",
    "with open(file_name, newline='', encoding='utf-8') as csvfile:\n",
    "    reader = csv.DictReader(csvfile)\n",
    "    for row in reader:\n",
    "        source = row['source']\n",
    "        target = row['target']\n",
    "        relationship = row['relationship']\n",
    "        \n",
    "        # Check if the weight value is empty\n",
    "        if row['weight'] == '':\n",
    "            weight = 1.0  # Use a default value if weight is empty\n",
    "        else:\n",
    "            weight = float(row['weight'])\n",
    "\n",
    "        # Add the nodes and edges to the graph\n",
    "        G.add_edge(source, target, weight=weight, label=relationship)\n",
    "\n",
    "# Draw the graph with a circular layout\n",
    "pos = nx.circular_layout(G)\n",
    "nx.draw(G, pos, with_labels=True, node_color='skyblue', node_size=3000, font_size=10)\n",
    "\n",
    "# Draw edge labels with relationship information\n",
    "edge_labels = nx.get_edge_attributes(G, 'label')\n",
    "nx.draw_networkx_edge_labels(G, pos, edge_labels=edge_labels, font_size=10)\n",
    "\n",
    "# Show the graph\n",
    "plt.axis('off')\n",
    "plt.show()\n"
   ]
  },
  {
   "cell_type": "code",
   "execution_count": 4,
   "metadata": {},
   "outputs": [
    {
     "name": "stdout",
     "output_type": "stream",
     "text": [
      "Requirement already satisfied: plotly in c:\\users\\nstep\\anaconda3\\lib\\site-packages (5.9.0)\n",
      "Requirement already satisfied: tenacity>=6.2.0 in c:\\users\\nstep\\anaconda3\\lib\\site-packages (from plotly) (8.0.1)\n"
     ]
    }
   ],
   "source": [
    "!pip install plotly"
   ]
  },
  {
   "cell_type": "code",
   "execution_count": 7,
   "metadata": {},
   "outputs": [
    {
     "data": {
      "application/vnd.plotly.v1+json": {
       "config": {
        "plotlyServerURL": "https://plot.ly"
       },
       "data": [
        {
         "hoverinfo": "none",
         "line": {
          "color": "#888",
          "width": 1
         },
         "mode": "lines",
         "type": "scatter",
         "x": [
          -0.2413837908274087,
          -0.3318689605072808,
          null,
          -0.2413837908274087,
          0.2966080736238716,
          null,
          -0.2413837908274087,
          -0.21438003701851624,
          null,
          -0.2413837908274087,
          -0.04822389346037354,
          null,
          -0.2413837908274087,
          -0.6663418877324581,
          null,
          -0.2413837908274087,
          -0.6109119453926675,
          null,
          -0.2413837908274087,
          -0.396732290184201,
          null,
          -0.2413837908274087,
          -0.6203388037448188,
          null,
          -0.2413837908274087,
          -0.12158032999804734,
          null,
          -0.2413837908274087,
          0.13673954756625545,
          null,
          -0.2413837908274087,
          0.29389112000436624,
          null,
          -0.2413837908274087,
          -0.295402656257848,
          null,
          -0.2413837908274087,
          -0.3155154665890567,
          null,
          -0.2413837908274087,
          -0.2827994678114588,
          null,
          -0.2413837908274087,
          -0.2013399499201317,
          null,
          -0.3318689605072808,
          -0.3155154665890567,
          null,
          -0.3318689605072808,
          0.2966080736238716,
          null,
          -0.3318689605072808,
          -0.21438003701851624,
          null,
          -0.3318689605072808,
          0.5149764035639023,
          null,
          -0.3318689605072808,
          -0.12158032999804734,
          null,
          -0.3318689605072808,
          0.13673954756625545,
          null,
          -0.3318689605072808,
          -0.295402656257848,
          null,
          -0.3318689605072808,
          -0.2827994678114588,
          null,
          -0.3318689605072808,
          0.29389112000436624,
          null,
          -0.3318689605072808,
          -0.6109119453926675,
          null,
          -0.3318689605072808,
          -0.2013399499201317,
          null,
          -0.3318689605072808,
          -0.5537174445909704,
          null,
          -0.3318689605072808,
          -1,
          null,
          -0.3318689605072808,
          -0.6203388037448188,
          null,
          -0.3318689605072808,
          -0.6663418877324581,
          null,
          0.2966080736238716,
          -0.21438003701851624,
          null,
          0.2966080736238716,
          -0.6663418877324581,
          null,
          0.2966080736238716,
          -0.6109119453926675,
          null,
          0.2966080736238716,
          0.8213274596996551,
          null,
          0.2966080736238716,
          -0.12158032999804734,
          null,
          0.2966080736238716,
          0.29389112000436624,
          null,
          0.2966080736238716,
          0.896104800341788,
          null,
          0.2966080736238716,
          0.5938444614760237,
          null,
          -0.21438003701851624,
          -0.6663418877324581,
          null,
          -0.21438003701851624,
          -0.6109119453926675,
          null,
          -0.21438003701851624,
          0.8213274596996551,
          null,
          -0.21438003701851624,
          0.5149764035639023,
          null,
          -0.21438003701851624,
          -0.12158032999804734,
          null,
          -0.21438003701851624,
          0.13673954756625545,
          null,
          -0.21438003701851624,
          0.29389112000436624,
          null,
          -0.21438003701851624,
          -0.2827994678114588,
          null,
          -0.21438003701851624,
          -0.6203388037448188,
          null,
          -0.04822389346037354,
          -0.6663418877324581,
          null,
          -0.04822389346037354,
          0.5938444614760237,
          null,
          -0.6663418877324581,
          -0.6203388037448188,
          null,
          -0.6663418877324581,
          -0.6109119453926675,
          null,
          -0.6109119453926675,
          -0.6663418877324581,
          null,
          -0.6109119453926675,
          -0.6203388037448188,
          null,
          -0.396732290184201,
          -0.07875472204318944,
          null,
          -0.396732290184201,
          -0.6663418877324581,
          null,
          -0.396732290184201,
          -0.6109119453926675,
          null,
          -0.396732290184201,
          0.5149764035639023,
          null,
          -0.6203388037448188,
          -0.07875472204318944,
          null,
          -0.6203388037448188,
          -0.6663418877324581,
          null,
          -0.6203388037448188,
          -0.6109119453926675,
          null,
          -0.12158032999804734,
          -0.6663418877324581,
          null,
          -0.12158032999804734,
          -0.6109119453926675,
          null,
          -0.12158032999804734,
          0.8213274596996551,
          null,
          0.13673954756625545,
          -0.6109119453926675,
          null,
          0.13673954756625545,
          0.8213274596996551,
          null,
          0.13673954756625545,
          0.5149764035639023,
          null,
          0.13673954756625545,
          -0.396732290184201,
          null,
          0.13673954756625545,
          0.29389112000436624,
          null,
          0.13673954756625545,
          0.896104800341788,
          null,
          0.29389112000436624,
          0.13673954756625545,
          null,
          0.29389112000436624,
          0.5149764035639023,
          null,
          0.29389112000436624,
          0.13849363613643748,
          null,
          -0.295402656257848,
          -0.07875472204318944,
          null,
          -0.295402656257848,
          -0.6203388037448188,
          null,
          -0.295402656257848,
          -0.12158032999804734,
          null,
          -0.295402656257848,
          0.5938444614760237,
          null,
          -0.295402656257848,
          -0.3155154665890567,
          null,
          -0.295402656257848,
          -0.3318689605072808,
          null,
          -0.295402656257848,
          -0.2413837908274087,
          null,
          -0.295402656257848,
          -0.21438003701851624,
          null,
          -0.295402656257848,
          -0.2827994678114588,
          null,
          -0.295402656257848,
          -1,
          null,
          -0.295402656257848,
          0.29389112000436624,
          null,
          -0.295402656257848,
          0.13673954756625545,
          null,
          -0.295402656257848,
          -0.5537174445909704,
          null,
          -0.295402656257848,
          -0.6109119453926675,
          null,
          -0.3155154665890567,
          0.2966080736238716,
          null,
          -0.3155154665890567,
          -0.21438003701851624,
          null,
          -0.3155154665890567,
          -0.07875472204318944,
          null,
          -0.3155154665890567,
          0.5149764035639023,
          null,
          -0.3155154665890567,
          -0.396732290184201,
          null,
          -0.3155154665890567,
          -0.295402656257848,
          null,
          -0.3155154665890567,
          -0.2827994678114588,
          null,
          -0.3155154665890567,
          -0.12158032999804734,
          null,
          -0.3155154665890567,
          -1,
          null,
          -0.3155154665890567,
          0.29389112000436624,
          null,
          -0.3155154665890567,
          -0.5537174445909704,
          null,
          -0.3155154665890567,
          0.13673954756625545,
          null,
          -0.3155154665890567,
          -0.6109119453926675,
          null,
          -0.07875472204318944,
          0.8213274596996551,
          null,
          -0.07875472204318944,
          -0.12158032999804734,
          null,
          -0.07875472204318944,
          -0.2827994678114588,
          null,
          0.5149764035639023,
          0.13673954756625545,
          null,
          0.5149764035639023,
          0.896104800341788,
          null,
          0.8213274596996551,
          0.896104800341788,
          null,
          0.5938444614760237,
          0.2966080736238716,
          null,
          0.5938444614760237,
          0.8213274596996551,
          null,
          0.5938444614760237,
          0.5149764035639023,
          null,
          0.5938444614760237,
          0.29389112000436624,
          null,
          0.7748522191053206,
          0.8213274596996551,
          null,
          0.13849363613643748,
          0.13673954756625545,
          null,
          0.8458749004840471,
          0.896104800341788,
          null,
          0.6665790240767596,
          0.896104800341788,
          null,
          0.6665790240767596,
          0.5149764035639023,
          null
         ],
         "y": [
          0.015692121741251435,
          0.0748935048929161,
          null,
          0.015692121741251435,
          -0.06183147482344182,
          null,
          0.015692121741251435,
          0.15442512568326155,
          null,
          0.015692121741251435,
          -0.16454293724211483,
          null,
          0.015692121741251435,
          0.09032779504469005,
          null,
          0.015692121741251435,
          0.09775377518329104,
          null,
          0.015692121741251435,
          -0.08556246096326038,
          null,
          0.015692121741251435,
          0.24781772060586593,
          null,
          0.015692121741251435,
          -0.023821614290819533,
          null,
          0.015692121741251435,
          -0.10441587632335142,
          null,
          0.015692121741251435,
          -0.17278623240284455,
          null,
          0.015692121741251435,
          0.18007461915874845,
          null,
          0.015692121741251435,
          0.19603972526132377,
          null,
          0.015692121741251435,
          0.7794724862747646,
          null,
          0.015692121741251435,
          -0.8022441947180902,
          null,
          0.0748935048929161,
          0.19603972526132377,
          null,
          0.0748935048929161,
          -0.06183147482344182,
          null,
          0.0748935048929161,
          0.15442512568326155,
          null,
          0.0748935048929161,
          -0.17254007001980187,
          null,
          0.0748935048929161,
          -0.023821614290819533,
          null,
          0.0748935048929161,
          -0.10441587632335142,
          null,
          0.0748935048929161,
          0.18007461915874845,
          null,
          0.0748935048929161,
          0.7794724862747646,
          null,
          0.0748935048929161,
          -0.17278623240284455,
          null,
          0.0748935048929161,
          0.09775377518329104,
          null,
          0.0748935048929161,
          -0.8022441947180902,
          null,
          0.0748935048929161,
          0.850558989790844,
          null,
          0.0748935048929161,
          -0.1544937329527391,
          null,
          0.0748935048929161,
          0.24781772060586593,
          null,
          0.0748935048929161,
          0.09032779504469005,
          null,
          -0.06183147482344182,
          0.15442512568326155,
          null,
          -0.06183147482344182,
          0.09032779504469005,
          null,
          -0.06183147482344182,
          0.09775377518329104,
          null,
          -0.06183147482344182,
          -0.1781693107402722,
          null,
          -0.06183147482344182,
          -0.023821614290819533,
          null,
          -0.06183147482344182,
          -0.17278623240284455,
          null,
          -0.06183147482344182,
          -0.23777234388476828,
          null,
          -0.06183147482344182,
          -0.2726379589647492,
          null,
          0.15442512568326155,
          0.09032779504469005,
          null,
          0.15442512568326155,
          0.09775377518329104,
          null,
          0.15442512568326155,
          -0.1781693107402722,
          null,
          0.15442512568326155,
          -0.17254007001980187,
          null,
          0.15442512568326155,
          -0.023821614290819533,
          null,
          0.15442512568326155,
          -0.10441587632335142,
          null,
          0.15442512568326155,
          -0.17278623240284455,
          null,
          0.15442512568326155,
          0.7794724862747646,
          null,
          0.15442512568326155,
          0.24781772060586593,
          null,
          -0.16454293724211483,
          0.09032779504469005,
          null,
          -0.16454293724211483,
          -0.2726379589647492,
          null,
          0.09032779504469005,
          0.24781772060586593,
          null,
          0.09032779504469005,
          0.09775377518329104,
          null,
          0.09775377518329104,
          0.09032779504469005,
          null,
          0.09775377518329104,
          0.24781772060586593,
          null,
          -0.08556246096326038,
          0.5468770474270709,
          null,
          -0.08556246096326038,
          0.09032779504469005,
          null,
          -0.08556246096326038,
          0.09775377518329104,
          null,
          -0.08556246096326038,
          -0.17254007001980187,
          null,
          0.24781772060586593,
          0.5468770474270709,
          null,
          0.24781772060586593,
          0.09032779504469005,
          null,
          0.24781772060586593,
          0.09775377518329104,
          null,
          -0.023821614290819533,
          0.09032779504469005,
          null,
          -0.023821614290819533,
          0.09775377518329104,
          null,
          -0.023821614290819533,
          -0.1781693107402722,
          null,
          -0.10441587632335142,
          0.09775377518329104,
          null,
          -0.10441587632335142,
          -0.1781693107402722,
          null,
          -0.10441587632335142,
          -0.17254007001980187,
          null,
          -0.10441587632335142,
          -0.08556246096326038,
          null,
          -0.10441587632335142,
          -0.17278623240284455,
          null,
          -0.10441587632335142,
          -0.23777234388476828,
          null,
          -0.17278623240284455,
          -0.10441587632335142,
          null,
          -0.17278623240284455,
          -0.17254007001980187,
          null,
          -0.17278623240284455,
          -0.2028544494251473,
          null,
          0.18007461915874845,
          0.5468770474270709,
          null,
          0.18007461915874845,
          0.24781772060586593,
          null,
          0.18007461915874845,
          -0.023821614290819533,
          null,
          0.18007461915874845,
          -0.2726379589647492,
          null,
          0.18007461915874845,
          0.19603972526132377,
          null,
          0.18007461915874845,
          0.0748935048929161,
          null,
          0.18007461915874845,
          0.015692121741251435,
          null,
          0.18007461915874845,
          0.15442512568326155,
          null,
          0.18007461915874845,
          0.7794724862747646,
          null,
          0.18007461915874845,
          -0.1544937329527391,
          null,
          0.18007461915874845,
          -0.17278623240284455,
          null,
          0.18007461915874845,
          -0.10441587632335142,
          null,
          0.18007461915874845,
          0.850558989790844,
          null,
          0.18007461915874845,
          0.09775377518329104,
          null,
          0.19603972526132377,
          -0.06183147482344182,
          null,
          0.19603972526132377,
          0.15442512568326155,
          null,
          0.19603972526132377,
          0.5468770474270709,
          null,
          0.19603972526132377,
          -0.17254007001980187,
          null,
          0.19603972526132377,
          -0.08556246096326038,
          null,
          0.19603972526132377,
          0.18007461915874845,
          null,
          0.19603972526132377,
          0.7794724862747646,
          null,
          0.19603972526132377,
          -0.023821614290819533,
          null,
          0.19603972526132377,
          -0.1544937329527391,
          null,
          0.19603972526132377,
          -0.17278623240284455,
          null,
          0.19603972526132377,
          0.850558989790844,
          null,
          0.19603972526132377,
          -0.10441587632335142,
          null,
          0.19603972526132377,
          0.09775377518329104,
          null,
          0.5468770474270709,
          -0.1781693107402722,
          null,
          0.5468770474270709,
          -0.023821614290819533,
          null,
          0.5468770474270709,
          0.7794724862747646,
          null,
          -0.17254007001980187,
          -0.10441587632335142,
          null,
          -0.17254007001980187,
          -0.23777234388476828,
          null,
          -0.1781693107402722,
          -0.23777234388476828,
          null,
          -0.2726379589647492,
          -0.06183147482344182,
          null,
          -0.2726379589647492,
          -0.1781693107402722,
          null,
          -0.2726379589647492,
          -0.17254007001980187,
          null,
          -0.2726379589647492,
          -0.17278623240284455,
          null,
          -0.07296633397717131,
          -0.1781693107402722,
          null,
          -0.2028544494251473,
          -0.10441587632335142,
          null,
          -0.322562142945785,
          -0.23777234388476828,
          null,
          -0.20473177738967063,
          -0.23777234388476828,
          null,
          -0.20473177738967063,
          -0.17254007001980187,
          null
         ]
        },
        {
         "hoverinfo": "text",
         "marker": {
          "color": "skyblue",
          "size": 30,
          "symbol": "circle"
         },
         "mode": "markers+text",
         "text": [
          "bathrooms",
          "bedrooms",
          "cable tv",
          "cleaning fee",
          "gym",
          "hot tub",
          "indoor fireplace",
          "pets allowed",
          "pool",
          "price",
          "washer",
          "dryer",
          "accommodates",
          "beds",
          "extra people",
          "kitchen",
          "internet",
          "wireless internet",
          "tv",
          "24-hour check-in",
          "guests included",
          "suitable for events",
          "family/kid friendly",
          "number of reviews",
          "free parking on premises",
          "essentials",
          "heating"
         ],
         "textfont": {
          "size": 12
         },
         "textposition": "bottom center",
         "type": "scatter",
         "x": [
          -0.2413837908274087,
          -0.3318689605072808,
          0.2966080736238716,
          -0.21438003701851624,
          -0.04822389346037354,
          -0.6663418877324581,
          -0.6109119453926675,
          -0.396732290184201,
          -0.6203388037448188,
          -0.12158032999804734,
          0.13673954756625545,
          0.29389112000436624,
          -0.295402656257848,
          -0.3155154665890567,
          -0.07875472204318944,
          0.5149764035639023,
          0.8213274596996551,
          0.896104800341788,
          0.5938444614760237,
          0.7748522191053206,
          -0.2827994678114588,
          -1,
          -0.5537174445909704,
          -0.2013399499201317,
          0.13849363613643748,
          0.8458749004840471,
          0.6665790240767596
         ],
         "y": [
          0.015692121741251435,
          0.0748935048929161,
          -0.06183147482344182,
          0.15442512568326155,
          -0.16454293724211483,
          0.09032779504469005,
          0.09775377518329104,
          -0.08556246096326038,
          0.24781772060586593,
          -0.023821614290819533,
          -0.10441587632335142,
          -0.17278623240284455,
          0.18007461915874845,
          0.19603972526132377,
          0.5468770474270709,
          -0.17254007001980187,
          -0.1781693107402722,
          -0.23777234388476828,
          -0.2726379589647492,
          -0.07296633397717131,
          0.7794724862747646,
          -0.1544937329527391,
          0.850558989790844,
          -0.8022441947180902,
          -0.2028544494251473,
          -0.322562142945785,
          -0.20473177738967063
         ]
        }
       ],
       "layout": {
        "hovermode": "closest",
        "plot_bgcolor": "white",
        "scene": {
         "xaxis": {
          "title": {
           "text": "X"
          }
         },
         "yaxis": {
          "title": {
           "text": "Y"
          }
         }
        },
        "showlegend": false,
        "template": {
         "data": {
          "bar": [
           {
            "error_x": {
             "color": "#2a3f5f"
            },
            "error_y": {
             "color": "#2a3f5f"
            },
            "marker": {
             "line": {
              "color": "#E5ECF6",
              "width": 0.5
             },
             "pattern": {
              "fillmode": "overlay",
              "size": 10,
              "solidity": 0.2
             }
            },
            "type": "bar"
           }
          ],
          "barpolar": [
           {
            "marker": {
             "line": {
              "color": "#E5ECF6",
              "width": 0.5
             },
             "pattern": {
              "fillmode": "overlay",
              "size": 10,
              "solidity": 0.2
             }
            },
            "type": "barpolar"
           }
          ],
          "carpet": [
           {
            "aaxis": {
             "endlinecolor": "#2a3f5f",
             "gridcolor": "white",
             "linecolor": "white",
             "minorgridcolor": "white",
             "startlinecolor": "#2a3f5f"
            },
            "baxis": {
             "endlinecolor": "#2a3f5f",
             "gridcolor": "white",
             "linecolor": "white",
             "minorgridcolor": "white",
             "startlinecolor": "#2a3f5f"
            },
            "type": "carpet"
           }
          ],
          "choropleth": [
           {
            "colorbar": {
             "outlinewidth": 0,
             "ticks": ""
            },
            "type": "choropleth"
           }
          ],
          "contour": [
           {
            "colorbar": {
             "outlinewidth": 0,
             "ticks": ""
            },
            "colorscale": [
             [
              0,
              "#0d0887"
             ],
             [
              0.1111111111111111,
              "#46039f"
             ],
             [
              0.2222222222222222,
              "#7201a8"
             ],
             [
              0.3333333333333333,
              "#9c179e"
             ],
             [
              0.4444444444444444,
              "#bd3786"
             ],
             [
              0.5555555555555556,
              "#d8576b"
             ],
             [
              0.6666666666666666,
              "#ed7953"
             ],
             [
              0.7777777777777778,
              "#fb9f3a"
             ],
             [
              0.8888888888888888,
              "#fdca26"
             ],
             [
              1,
              "#f0f921"
             ]
            ],
            "type": "contour"
           }
          ],
          "contourcarpet": [
           {
            "colorbar": {
             "outlinewidth": 0,
             "ticks": ""
            },
            "type": "contourcarpet"
           }
          ],
          "heatmap": [
           {
            "colorbar": {
             "outlinewidth": 0,
             "ticks": ""
            },
            "colorscale": [
             [
              0,
              "#0d0887"
             ],
             [
              0.1111111111111111,
              "#46039f"
             ],
             [
              0.2222222222222222,
              "#7201a8"
             ],
             [
              0.3333333333333333,
              "#9c179e"
             ],
             [
              0.4444444444444444,
              "#bd3786"
             ],
             [
              0.5555555555555556,
              "#d8576b"
             ],
             [
              0.6666666666666666,
              "#ed7953"
             ],
             [
              0.7777777777777778,
              "#fb9f3a"
             ],
             [
              0.8888888888888888,
              "#fdca26"
             ],
             [
              1,
              "#f0f921"
             ]
            ],
            "type": "heatmap"
           }
          ],
          "heatmapgl": [
           {
            "colorbar": {
             "outlinewidth": 0,
             "ticks": ""
            },
            "colorscale": [
             [
              0,
              "#0d0887"
             ],
             [
              0.1111111111111111,
              "#46039f"
             ],
             [
              0.2222222222222222,
              "#7201a8"
             ],
             [
              0.3333333333333333,
              "#9c179e"
             ],
             [
              0.4444444444444444,
              "#bd3786"
             ],
             [
              0.5555555555555556,
              "#d8576b"
             ],
             [
              0.6666666666666666,
              "#ed7953"
             ],
             [
              0.7777777777777778,
              "#fb9f3a"
             ],
             [
              0.8888888888888888,
              "#fdca26"
             ],
             [
              1,
              "#f0f921"
             ]
            ],
            "type": "heatmapgl"
           }
          ],
          "histogram": [
           {
            "marker": {
             "pattern": {
              "fillmode": "overlay",
              "size": 10,
              "solidity": 0.2
             }
            },
            "type": "histogram"
           }
          ],
          "histogram2d": [
           {
            "colorbar": {
             "outlinewidth": 0,
             "ticks": ""
            },
            "colorscale": [
             [
              0,
              "#0d0887"
             ],
             [
              0.1111111111111111,
              "#46039f"
             ],
             [
              0.2222222222222222,
              "#7201a8"
             ],
             [
              0.3333333333333333,
              "#9c179e"
             ],
             [
              0.4444444444444444,
              "#bd3786"
             ],
             [
              0.5555555555555556,
              "#d8576b"
             ],
             [
              0.6666666666666666,
              "#ed7953"
             ],
             [
              0.7777777777777778,
              "#fb9f3a"
             ],
             [
              0.8888888888888888,
              "#fdca26"
             ],
             [
              1,
              "#f0f921"
             ]
            ],
            "type": "histogram2d"
           }
          ],
          "histogram2dcontour": [
           {
            "colorbar": {
             "outlinewidth": 0,
             "ticks": ""
            },
            "colorscale": [
             [
              0,
              "#0d0887"
             ],
             [
              0.1111111111111111,
              "#46039f"
             ],
             [
              0.2222222222222222,
              "#7201a8"
             ],
             [
              0.3333333333333333,
              "#9c179e"
             ],
             [
              0.4444444444444444,
              "#bd3786"
             ],
             [
              0.5555555555555556,
              "#d8576b"
             ],
             [
              0.6666666666666666,
              "#ed7953"
             ],
             [
              0.7777777777777778,
              "#fb9f3a"
             ],
             [
              0.8888888888888888,
              "#fdca26"
             ],
             [
              1,
              "#f0f921"
             ]
            ],
            "type": "histogram2dcontour"
           }
          ],
          "mesh3d": [
           {
            "colorbar": {
             "outlinewidth": 0,
             "ticks": ""
            },
            "type": "mesh3d"
           }
          ],
          "parcoords": [
           {
            "line": {
             "colorbar": {
              "outlinewidth": 0,
              "ticks": ""
             }
            },
            "type": "parcoords"
           }
          ],
          "pie": [
           {
            "automargin": true,
            "type": "pie"
           }
          ],
          "scatter": [
           {
            "fillpattern": {
             "fillmode": "overlay",
             "size": 10,
             "solidity": 0.2
            },
            "type": "scatter"
           }
          ],
          "scatter3d": [
           {
            "line": {
             "colorbar": {
              "outlinewidth": 0,
              "ticks": ""
             }
            },
            "marker": {
             "colorbar": {
              "outlinewidth": 0,
              "ticks": ""
             }
            },
            "type": "scatter3d"
           }
          ],
          "scattercarpet": [
           {
            "marker": {
             "colorbar": {
              "outlinewidth": 0,
              "ticks": ""
             }
            },
            "type": "scattercarpet"
           }
          ],
          "scattergeo": [
           {
            "marker": {
             "colorbar": {
              "outlinewidth": 0,
              "ticks": ""
             }
            },
            "type": "scattergeo"
           }
          ],
          "scattergl": [
           {
            "marker": {
             "colorbar": {
              "outlinewidth": 0,
              "ticks": ""
             }
            },
            "type": "scattergl"
           }
          ],
          "scattermapbox": [
           {
            "marker": {
             "colorbar": {
              "outlinewidth": 0,
              "ticks": ""
             }
            },
            "type": "scattermapbox"
           }
          ],
          "scatterpolar": [
           {
            "marker": {
             "colorbar": {
              "outlinewidth": 0,
              "ticks": ""
             }
            },
            "type": "scatterpolar"
           }
          ],
          "scatterpolargl": [
           {
            "marker": {
             "colorbar": {
              "outlinewidth": 0,
              "ticks": ""
             }
            },
            "type": "scatterpolargl"
           }
          ],
          "scatterternary": [
           {
            "marker": {
             "colorbar": {
              "outlinewidth": 0,
              "ticks": ""
             }
            },
            "type": "scatterternary"
           }
          ],
          "surface": [
           {
            "colorbar": {
             "outlinewidth": 0,
             "ticks": ""
            },
            "colorscale": [
             [
              0,
              "#0d0887"
             ],
             [
              0.1111111111111111,
              "#46039f"
             ],
             [
              0.2222222222222222,
              "#7201a8"
             ],
             [
              0.3333333333333333,
              "#9c179e"
             ],
             [
              0.4444444444444444,
              "#bd3786"
             ],
             [
              0.5555555555555556,
              "#d8576b"
             ],
             [
              0.6666666666666666,
              "#ed7953"
             ],
             [
              0.7777777777777778,
              "#fb9f3a"
             ],
             [
              0.8888888888888888,
              "#fdca26"
             ],
             [
              1,
              "#f0f921"
             ]
            ],
            "type": "surface"
           }
          ],
          "table": [
           {
            "cells": {
             "fill": {
              "color": "#EBF0F8"
             },
             "line": {
              "color": "white"
             }
            },
            "header": {
             "fill": {
              "color": "#C8D4E3"
             },
             "line": {
              "color": "white"
             }
            },
            "type": "table"
           }
          ]
         },
         "layout": {
          "annotationdefaults": {
           "arrowcolor": "#2a3f5f",
           "arrowhead": 0,
           "arrowwidth": 1
          },
          "autotypenumbers": "strict",
          "coloraxis": {
           "colorbar": {
            "outlinewidth": 0,
            "ticks": ""
           }
          },
          "colorscale": {
           "diverging": [
            [
             0,
             "#8e0152"
            ],
            [
             0.1,
             "#c51b7d"
            ],
            [
             0.2,
             "#de77ae"
            ],
            [
             0.3,
             "#f1b6da"
            ],
            [
             0.4,
             "#fde0ef"
            ],
            [
             0.5,
             "#f7f7f7"
            ],
            [
             0.6,
             "#e6f5d0"
            ],
            [
             0.7,
             "#b8e186"
            ],
            [
             0.8,
             "#7fbc41"
            ],
            [
             0.9,
             "#4d9221"
            ],
            [
             1,
             "#276419"
            ]
           ],
           "sequential": [
            [
             0,
             "#0d0887"
            ],
            [
             0.1111111111111111,
             "#46039f"
            ],
            [
             0.2222222222222222,
             "#7201a8"
            ],
            [
             0.3333333333333333,
             "#9c179e"
            ],
            [
             0.4444444444444444,
             "#bd3786"
            ],
            [
             0.5555555555555556,
             "#d8576b"
            ],
            [
             0.6666666666666666,
             "#ed7953"
            ],
            [
             0.7777777777777778,
             "#fb9f3a"
            ],
            [
             0.8888888888888888,
             "#fdca26"
            ],
            [
             1,
             "#f0f921"
            ]
           ],
           "sequentialminus": [
            [
             0,
             "#0d0887"
            ],
            [
             0.1111111111111111,
             "#46039f"
            ],
            [
             0.2222222222222222,
             "#7201a8"
            ],
            [
             0.3333333333333333,
             "#9c179e"
            ],
            [
             0.4444444444444444,
             "#bd3786"
            ],
            [
             0.5555555555555556,
             "#d8576b"
            ],
            [
             0.6666666666666666,
             "#ed7953"
            ],
            [
             0.7777777777777778,
             "#fb9f3a"
            ],
            [
             0.8888888888888888,
             "#fdca26"
            ],
            [
             1,
             "#f0f921"
            ]
           ]
          },
          "colorway": [
           "#636efa",
           "#EF553B",
           "#00cc96",
           "#ab63fa",
           "#FFA15A",
           "#19d3f3",
           "#FF6692",
           "#B6E880",
           "#FF97FF",
           "#FECB52"
          ],
          "font": {
           "color": "#2a3f5f"
          },
          "geo": {
           "bgcolor": "white",
           "lakecolor": "white",
           "landcolor": "#E5ECF6",
           "showlakes": true,
           "showland": true,
           "subunitcolor": "white"
          },
          "hoverlabel": {
           "align": "left"
          },
          "hovermode": "closest",
          "mapbox": {
           "style": "light"
          },
          "paper_bgcolor": "white",
          "plot_bgcolor": "#E5ECF6",
          "polar": {
           "angularaxis": {
            "gridcolor": "white",
            "linecolor": "white",
            "ticks": ""
           },
           "bgcolor": "#E5ECF6",
           "radialaxis": {
            "gridcolor": "white",
            "linecolor": "white",
            "ticks": ""
           }
          },
          "scene": {
           "xaxis": {
            "backgroundcolor": "#E5ECF6",
            "gridcolor": "white",
            "gridwidth": 2,
            "linecolor": "white",
            "showbackground": true,
            "ticks": "",
            "zerolinecolor": "white"
           },
           "yaxis": {
            "backgroundcolor": "#E5ECF6",
            "gridcolor": "white",
            "gridwidth": 2,
            "linecolor": "white",
            "showbackground": true,
            "ticks": "",
            "zerolinecolor": "white"
           },
           "zaxis": {
            "backgroundcolor": "#E5ECF6",
            "gridcolor": "white",
            "gridwidth": 2,
            "linecolor": "white",
            "showbackground": true,
            "ticks": "",
            "zerolinecolor": "white"
           }
          },
          "shapedefaults": {
           "line": {
            "color": "#2a3f5f"
           }
          },
          "ternary": {
           "aaxis": {
            "gridcolor": "white",
            "linecolor": "white",
            "ticks": ""
           },
           "baxis": {
            "gridcolor": "white",
            "linecolor": "white",
            "ticks": ""
           },
           "bgcolor": "#E5ECF6",
           "caxis": {
            "gridcolor": "white",
            "linecolor": "white",
            "ticks": ""
           }
          },
          "title": {
           "x": 0.05
          },
          "xaxis": {
           "automargin": true,
           "gridcolor": "white",
           "linecolor": "white",
           "ticks": "",
           "title": {
            "standoff": 15
           },
           "zerolinecolor": "white",
           "zerolinewidth": 2
          },
          "yaxis": {
           "automargin": true,
           "gridcolor": "white",
           "linecolor": "white",
           "ticks": "",
           "title": {
            "standoff": 15
           },
           "zerolinecolor": "white",
           "zerolinewidth": 2
          }
         }
        }
       }
      }
     },
     "metadata": {},
     "output_type": "display_data"
    }
   ],
   "source": [
    "import csv\n",
    "import networkx as nx\n",
    "import plotly.graph_objects as go\n",
    "\n",
    "file_name = 'causal-graph-2023-04-12.csv'\n",
    "\n",
    "# Create a new graph\n",
    "G = nx.DiGraph()\n",
    "\n",
    "# Read the CSV file\n",
    "with open(file_name, newline='', encoding='utf-8') as csvfile:\n",
    "    reader = csv.DictReader(csvfile)\n",
    "    for row in reader:\n",
    "        source = row['source']\n",
    "        target = row['target']\n",
    "        relationship = row['relationship']\n",
    "\n",
    "        if row['weight'] == '':\n",
    "            weight = 1.0\n",
    "        else:\n",
    "            weight = float(row['weight'])\n",
    "\n",
    "        G.add_edge(source, target, weight=weight, label=relationship)\n",
    "\n",
    "# Set node positions using the spring layout\n",
    "pos = nx.spring_layout(G)\n",
    "\n",
    "# Prepare data for the Plotly plot\n",
    "edge_x = []\n",
    "edge_y = []\n",
    "for edge in G.edges():\n",
    "    x0, y0 = pos[edge[0]]\n",
    "    x1, y1 = pos[edge[1]]\n",
    "    edge_x.extend([x0, x1, None])\n",
    "    edge_y.extend([y0, y1, None])\n",
    "\n",
    "edge_trace = go.Scatter(x=edge_x, y=edge_y, line=dict(width=1, color='#888'), hoverinfo='none', mode='lines')\n",
    "\n",
    "node_x = [pos[node][0] for node in G.nodes()]\n",
    "node_y = [pos[node][1] for node in G.nodes()]\n",
    "\n",
    "node_trace = go.Scatter(x=node_x, y=node_y, text=list(G.nodes), mode='markers+text', hoverinfo='text',\n",
    "                        marker=dict(symbol='circle', size=30, color='skyblue'),\n",
    "                        textposition='bottom center', textfont=dict(size=12))\n",
    "\n",
    "# Create the Plotly plot\n",
    "fig = go.Figure(data=[edge_trace, node_trace], layout=go.Layout(showlegend=False, hovermode='closest'))\n",
    "fig.update_layout(scene=dict(xaxis_title='X', yaxis_title='Y'), plot_bgcolor='white')\n",
    "fig.show()\n"
   ]
  },
  {
   "cell_type": "code",
   "execution_count": 8,
   "metadata": {},
   "outputs": [
    {
     "name": "stdout",
     "output_type": "stream",
     "text": [
      "Collecting pyvis\n",
      "  Downloading pyvis-0.3.2-py3-none-any.whl (756 kB)\n",
      "     -------------------------------------- 756.0/756.0 kB 6.8 MB/s eta 0:00:00\n",
      "Requirement already satisfied: jinja2>=2.9.6 in c:\\users\\nstep\\anaconda3\\lib\\site-packages (from pyvis) (2.11.3)\n",
      "Requirement already satisfied: ipython>=5.3.0 in c:\\users\\nstep\\anaconda3\\lib\\site-packages (from pyvis) (7.31.1)\n",
      "Collecting jsonpickle>=1.4.1\n",
      "  Downloading jsonpickle-3.0.1-py2.py3-none-any.whl (40 kB)\n",
      "     ---------------------------------------- 40.5/40.5 kB ? eta 0:00:00\n",
      "Requirement already satisfied: networkx>=1.11 in c:\\users\\nstep\\anaconda3\\lib\\site-packages (from pyvis) (2.8.8)\n",
      "Requirement already satisfied: backcall in c:\\users\\nstep\\anaconda3\\lib\\site-packages (from ipython>=5.3.0->pyvis) (0.2.0)\n",
      "Requirement already satisfied: pickleshare in c:\\users\\nstep\\anaconda3\\lib\\site-packages (from ipython>=5.3.0->pyvis) (0.7.5)\n",
      "Requirement already satisfied: colorama in c:\\users\\nstep\\anaconda3\\lib\\site-packages (from ipython>=5.3.0->pyvis) (0.4.5)\n",
      "Requirement already satisfied: pygments in c:\\users\\nstep\\anaconda3\\lib\\site-packages (from ipython>=5.3.0->pyvis) (2.11.2)\n",
      "Requirement already satisfied: setuptools>=18.5 in c:\\users\\nstep\\anaconda3\\lib\\site-packages (from ipython>=5.3.0->pyvis) (63.4.1)\n",
      "Requirement already satisfied: matplotlib-inline in c:\\users\\nstep\\anaconda3\\lib\\site-packages (from ipython>=5.3.0->pyvis) (0.1.6)\n",
      "Requirement already satisfied: jedi>=0.16 in c:\\users\\nstep\\anaconda3\\lib\\site-packages (from ipython>=5.3.0->pyvis) (0.18.1)\n",
      "Requirement already satisfied: prompt-toolkit!=3.0.0,!=3.0.1,<3.1.0,>=2.0.0 in c:\\users\\nstep\\anaconda3\\lib\\site-packages (from ipython>=5.3.0->pyvis) (3.0.20)\n",
      "Requirement already satisfied: decorator in c:\\users\\nstep\\anaconda3\\lib\\site-packages (from ipython>=5.3.0->pyvis) (5.1.1)\n",
      "Requirement already satisfied: traitlets>=4.2 in c:\\users\\nstep\\anaconda3\\lib\\site-packages (from ipython>=5.3.0->pyvis) (5.1.1)\n",
      "Requirement already satisfied: MarkupSafe>=0.23 in c:\\users\\nstep\\anaconda3\\lib\\site-packages (from jinja2>=2.9.6->pyvis) (2.0.1)\n",
      "Requirement already satisfied: parso<0.9.0,>=0.8.0 in c:\\users\\nstep\\anaconda3\\lib\\site-packages (from jedi>=0.16->ipython>=5.3.0->pyvis) (0.8.3)\n",
      "Requirement already satisfied: wcwidth in c:\\users\\nstep\\anaconda3\\lib\\site-packages (from prompt-toolkit!=3.0.0,!=3.0.1,<3.1.0,>=2.0.0->ipython>=5.3.0->pyvis) (0.2.5)\n",
      "Installing collected packages: jsonpickle, pyvis\n",
      "Successfully installed jsonpickle-3.0.1 pyvis-0.3.2\n"
     ]
    }
   ],
   "source": [
    "!pip install pyvis"
   ]
  },
  {
   "cell_type": "code",
   "execution_count": 9,
   "metadata": {},
   "outputs": [
    {
     "name": "stdout",
     "output_type": "stream",
     "text": [
      "Warning: When  cdn_resources is 'local' jupyter notebook has issues displaying graphics on chrome/safari. Use cdn_resources='in_line' or cdn_resources='remote' if you have issues viewing graphics in a notebook.\n",
      "causal_graph.html\n"
     ]
    },
    {
     "data": {
      "text/html": [
       "\n",
       "        <iframe\n",
       "            width=\"100%\"\n",
       "            height=\"600px\"\n",
       "            src=\"causal_graph.html\"\n",
       "            frameborder=\"0\"\n",
       "            allowfullscreen\n",
       "            \n",
       "        ></iframe>\n",
       "        "
      ],
      "text/plain": [
       "<IPython.lib.display.IFrame at 0x2007017cf10>"
      ]
     },
     "execution_count": 9,
     "metadata": {},
     "output_type": "execute_result"
    }
   ],
   "source": [
    "import csv\n",
    "import networkx as nx\n",
    "from pyvis.network import Network\n",
    "\n",
    "file_name = 'causal-graph-2023-04-12.csv'\n",
    "\n",
    "# Create a new graph\n",
    "G = nx.DiGraph()\n",
    "\n",
    "# Read the CSV file\n",
    "with open(file_name, newline='', encoding='utf-8') as csvfile:\n",
    "    reader = csv.DictReader(csvfile)\n",
    "    for row in reader:\n",
    "        source = row['source']\n",
    "        target = row['target']\n",
    "        relationship = row['relationship']\n",
    "\n",
    "        if row['weight'] == '':\n",
    "            weight = 1.0\n",
    "        else:\n",
    "            weight = float(row['weight'])\n",
    "\n",
    "        G.add_edge(source, target, weight=weight, label=relationship)\n",
    "\n",
    "# Create a pyvis network\n",
    "net = Network(notebook=True)\n",
    "net.from_nx(G)\n",
    "\n",
    "# Customize node and edge appearance\n",
    "net.toggle_physics(False)\n",
    "for node in net.nodes:\n",
    "    node['color'] = 'skyblue'\n",
    "    node['size'] = 30\n",
    "    node['font'] = {'color': 'black', 'size': 12}\n",
    "\n",
    "for edge in net.edges:\n",
    "    edge['color'] = '#888'\n",
    "    edge['width'] = 1.0\n",
    "    edge['label'] = G.edges[edge['from'], edge['to']]['label']\n",
    "\n",
    "# Show the interactive network visualization\n",
    "net.show('causal_graph.html')\n"
   ]
  },
  {
   "cell_type": "code",
   "execution_count": 10,
   "metadata": {},
   "outputs": [],
   "source": [
    "import csv\n",
    "\n",
    "# Replace 'your_file.csv' with the actual name of your CSV file\n",
    "file_name = 'causal-graph-2023-04-12.csv'\n",
    "\n",
    "# Specify the output file name\n",
    "output_file_name = 'output.txt'\n",
    "\n",
    "# Read the CSV file\n",
    "with open(file_name, newline='', encoding='utf-8') as csvfile:\n",
    "    reader = csv.DictReader(csvfile)\n",
    "    \n",
    "    # Open the output file for writing\n",
    "    with open(output_file_name, 'w', encoding='utf-8') as output_file:\n",
    "        for row in reader:\n",
    "            source = row['source']\n",
    "            target = row['target']\n",
    "            relationship = row['relationship']\n",
    "            weight = row['weight']\n",
    "\n",
    "            # Write the formatted string to the output file\n",
    "            output_file.write(f\"{source} {relationship} {target} with weight {weight}\\n\")\n"
   ]
  },
  {
   "cell_type": "code",
   "execution_count": null,
   "metadata": {},
   "outputs": [],
   "source": []
  }
 ],
 "metadata": {
  "kernelspec": {
   "display_name": "base",
   "language": "python",
   "name": "python3"
  },
  "language_info": {
   "codemirror_mode": {
    "name": "ipython",
    "version": 3
   },
   "file_extension": ".py",
   "mimetype": "text/x-python",
   "name": "python",
   "nbconvert_exporter": "python",
   "pygments_lexer": "ipython3",
   "version": "3.9.13"
  },
  "orig_nbformat": 4
 },
 "nbformat": 4,
 "nbformat_minor": 2
}
